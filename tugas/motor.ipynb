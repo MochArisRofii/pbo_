{
 "cells": [
  {
   "cell_type": "code",
   "execution_count": 9,
   "metadata": {},
   "outputs": [],
   "source": [
    "class RekeningBank:\n",
    "  def __init__(self, nama_pemilik, saldo):\n",
    "    self.__saldo = saldo\n",
    "    self.__nama_pemilik = nama_pemilik\n",
    "\n",
    "  def set_saldo(self, saldo):\n",
    "    self.__saldo = saldo\n",
    "\n",
    "  def get_saldo(self):\n",
    "    return self.__saldo\n",
    "\n",
    "  def set_nama_pemilik(self, nama_pemilik):\n",
    "    self.__nama_pemilik = nama_pemilik\n",
    "\n",
    "  def get_nama_pemilik(self):\n",
    "    return self.__nama_pemilik\n",
    "\n",
    "  def setor(self, jumlah):\n",
    "    if jumlah > 0:\n",
    "      self.__saldo += jumlah\n",
    "      print(\"Setoran Berhasil. Saldo sekarang:\", self.__saldo)\n",
    "\n",
    "    else:\n",
    "      print(\"Jumlah Setoran Harus Lebih Dari 0\")\n",
    "\n",
    "  def tarik(self, jumlah):\n",
    "    if jumlah > 0 and jumlah <= self.__saldo:\n",
    "      self.__saldo -= jumlah\n",
    "      print(\"Penarikan Berhasil. Saldo Sekarang:\", self.__saldo)\n",
    "\n",
    "    else:\n",
    "      print(\"Jumlah Penarikan Tidak Valid Atau Saldo Tidak Mencukupi\")"
   ]
  },
  {
   "cell_type": "code",
   "execution_count": 11,
   "metadata": {},
   "outputs": [
    {
     "name": "stdout",
     "output_type": "stream",
     "text": [
      "Nama Pemilik: ZahrotulHikmah\n",
      "Saldo: 10000000\n",
      "\n",
      "Nama Pemilik Setelah Di Ubah: Moch Aris Rofii\n",
      "Saldo Setelah Di Ubah: 20000000\n"
     ]
    }
   ],
   "source": [
    "rekening1 = RekeningBank(\"ZahrotulHikmah\", 10000000)\n",
    "\n",
    "print(\"Nama Pemilik:\", rekening1.get_nama_pemilik())\n",
    "print(\"Saldo:\", rekening1.get_saldo())\n",
    "\n",
    "rekening1.set_nama_pemilik(\"Moch Aris Rofii\")\n",
    "rekening1.set_saldo(20000000)\n",
    "\n",
    "print(\"\\nNama Pemilik Setelah Di Ubah:\", rekening1.get_nama_pemilik())\n",
    "print(\"Saldo Setelah Di Ubah:\", rekening1.get_saldo())"
   ]
  },
  {
   "cell_type": "code",
   "execution_count": 14,
   "metadata": {},
   "outputs": [
    {
     "name": "stdout",
     "output_type": "stream",
     "text": [
      "Informasi Awal Rekening:\n",
      "\n",
      "Nama Pemilik Rekening: Moch Aris Rofii\n",
      "Saldo: 100000000\n",
      "Setoran Berhasil. Saldo sekarang: 120000000\n",
      "Penarikan Berhasil. Saldo Sekarang: 110000000\n",
      "Jumlah Penarikan Tidak Valid Atau Saldo Tidak Mencukupi\n",
      "\n",
      "Informasi Akhir Rekening:\n",
      "Nama Pemilik Rekening: Moch Aris Rofii\n",
      "Saldo: 110000000\n"
     ]
    }
   ],
   "source": [
    "rekening2 = RekeningBank(\"Moch Aris Rofii\", 100000000)\n",
    "\n",
    "print(\"Informasi Awal Rekening:\")\n",
    "print(\"\\nNama Pemilik Rekening:\", rekening2.get_nama_pemilik())\n",
    "print(\"Saldo:\", rekening2.get_saldo())\n",
    "\n",
    "rekening2.setor(20000000)\n",
    "rekening2.tarik(10000000)\n",
    "rekening2.tarik(1000000000)\n",
    "\n",
    "print(\"\\nInformasi Akhir Rekening:\")\n",
    "print(\"Nama Pemilik Rekening:\", rekening2.get_nama_pemilik())\n",
    "print(\"Saldo:\", rekening2.get_saldo())"
   ]
  }
 ],
 "metadata": {
  "kernelspec": {
   "display_name": "Python 3",
   "language": "python",
   "name": "python3"
  },
  "language_info": {
   "codemirror_mode": {
    "name": "ipython",
    "version": 3
   },
   "file_extension": ".py",
   "mimetype": "text/x-python",
   "name": "python",
   "nbconvert_exporter": "python",
   "pygments_lexer": "ipython3",
   "version": "3.11.4"
  },
  "orig_nbformat": 4
 },
 "nbformat": 4,
 "nbformat_minor": 2
}
